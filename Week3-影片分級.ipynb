{
 "cells": [
  {
   "cell_type": "code",
   "execution_count": 11,
   "metadata": {
    "scrolled": true
   },
   "outputs": [
    {
     "name": "stdout",
     "output_type": "stream",
     "text": [
      "請輸入您的年齡：18\n",
      "你成年啦！可以看任何影片！\n"
     ]
    }
   ],
   "source": [
    "age = int(input(\"請輸入您的年齡：\"))\n",
    "if age < 6:\n",
    "    print(\"可以看普遍級影片！\")\n",
    "elif 6 <= age < 12:\n",
    "    print(\"可以看普遍級和保護級影片！\")\n",
    "elif 12 <= age < 18:\n",
    "    print(\"可以看限制級以外的所有影片！\")\n",
    "else:\n",
    "    print(\"你成年啦！可以看任何影片！\")"
   ]
  }
 ],
 "metadata": {
  "kernelspec": {
   "display_name": "Python 3",
   "language": "python",
   "name": "python3"
  },
  "language_info": {
   "codemirror_mode": {
    "name": "ipython",
    "version": 3
   },
   "file_extension": ".py",
   "mimetype": "text/x-python",
   "name": "python",
   "nbconvert_exporter": "python",
   "pygments_lexer": "ipython3",
   "version": "3.7.4"
  }
 },
 "nbformat": 4,
 "nbformat_minor": 2
}

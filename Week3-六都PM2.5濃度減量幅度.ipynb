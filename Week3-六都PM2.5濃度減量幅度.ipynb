{
 "cells": [
  {
   "cell_type": "markdown",
   "metadata": {},
   "source": [
    "![六都PM2.5減量幅度](六都PM2.5減量幅度.jpg)"
   ]
  },
  {
   "cell_type": "code",
   "execution_count": 4,
   "metadata": {},
   "outputs": [
    {
     "name": "stdout",
     "output_type": "stream",
     "text": [
      "請輸入想查詢的城市名稱：台中市\n",
      "台中市的減量幅度為3.9\n"
     ]
    }
   ],
   "source": [
    "dict1 = {\"高雄市\":6.70, \"台南市\":5.00, \"桃園市\":3.90, \"台中市\":3.90, \"新北市\":2.90, \"台北市\":2.00}\n",
    "city = input(\"請輸入想查詢的城市名稱：\")\n",
    "if city in dict1:\n",
    "    print(city + \"的減量幅度為\" + str(dict1[city]))\n",
    "else:\n",
    "    print(str(city) + \"不在六都裡！\")"
   ]
  },
  {
   "cell_type": "code",
   "execution_count": null,
   "metadata": {},
   "outputs": [],
   "source": []
  }
 ],
 "metadata": {
  "kernelspec": {
   "display_name": "Python 3",
   "language": "python",
   "name": "python3"
  },
  "language_info": {
   "codemirror_mode": {
    "name": "ipython",
    "version": 3
   },
   "file_extension": ".py",
   "mimetype": "text/x-python",
   "name": "python",
   "nbconvert_exporter": "python",
   "pygments_lexer": "ipython3",
   "version": "3.7.4"
  }
 },
 "nbformat": 4,
 "nbformat_minor": 2
}
